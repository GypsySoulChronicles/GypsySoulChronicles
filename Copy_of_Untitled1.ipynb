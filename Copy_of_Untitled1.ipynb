{
  "nbformat": 4,
  "nbformat_minor": 0,
  "metadata": {
    "colab": {
      "provenance": [],
      "authorship_tag": "ABX9TyOPngB/YnVyWWcZs5hqJCIR",
      "include_colab_link": true
    },
    "kernelspec": {
      "name": "python3",
      "display_name": "Python 3"
    },
    "language_info": {
      "name": "python"
    }
  },
  "cells": [
    {
      "cell_type": "markdown",
      "metadata": {
        "id": "view-in-github",
        "colab_type": "text"
      },
      "source": [
        "<a href=\"https://colab.research.google.com/github/GypsySoulChronicles/GypsySoulChronicles/blob/main/Copy_of_Untitled1.ipynb\" target=\"_parent\"><img src=\"https://colab.research.google.com/assets/colab-badge.svg\" alt=\"Open In Colab\"/></a>"
      ]
    },
    {
      "cell_type": "markdown",
      "source": [
        "LEARNING."
      ],
      "metadata": {
        "id": "9c3fxerYN9xt"
      }
    },
    {
      "cell_type": "code",
      "source": [],
      "metadata": {
        "id": "h_sUkkCVZCLz"
      },
      "execution_count": null,
      "outputs": []
    },
    {
      "cell_type": "code",
      "execution_count": null,
      "metadata": {
        "colab": {
          "base_uri": "https://localhost:8080/",
          "height": 408
        },
        "id": "WdJq8TThGci3",
        "outputId": "7074e5b8-8a9a-4f36-c856-0a9299f7ac9a"
      },
      "outputs": [
        {
          "name": "stdout",
          "output_type": "stream",
          "text": [
            "Enter your main symptom: headache\n",
            "On a scale of 1-10, 10 being the worst, how would you rate your current pain? 7\n",
            "Is it common for you to experience headaches? yes\n"
          ]
        },
        {
          "output_type": "error",
          "ename": "KeyboardInterrupt",
          "evalue": "Interrupted by user",
          "traceback": [
            "\u001b[0;31m---------------------------------------------------------------------------\u001b[0m",
            "\u001b[0;31mKeyboardInterrupt\u001b[0m                         Traceback (most recent call last)",
            "\u001b[0;32m<ipython-input-112-b1777b84b49c>\u001b[0m in \u001b[0;36m<cell line: 14>\u001b[0;34m()\u001b[0m\n\u001b[1;32m     13\u001b[0m     \u001b[0;32mbreak\u001b[0m\u001b[0;34m\u001b[0m\u001b[0;34m\u001b[0m\u001b[0m\n\u001b[1;32m     14\u001b[0m \u001b[0;32mif\u001b[0m \u001b[0msymptom\u001b[0m \u001b[0;34m==\u001b[0m \u001b[0mlist\u001b[0m\u001b[0;34m[\u001b[0m\u001b[0;36m0\u001b[0m\u001b[0;34m]\u001b[0m\u001b[0;34m:\u001b[0m\u001b[0;34m\u001b[0m\u001b[0;34m\u001b[0m\u001b[0m\n\u001b[0;32m---> 15\u001b[0;31m     \u001b[0mprint\u001b[0m\u001b[0;34m(\u001b[0m\u001b[0minput\u001b[0m\u001b[0;34m(\u001b[0m\u001b[0mx\u001b[0m\u001b[0;34m)\u001b[0m\u001b[0;34m)\u001b[0m\u001b[0;34m\u001b[0m\u001b[0;34m\u001b[0m\u001b[0m\n\u001b[0m\u001b[1;32m     16\u001b[0m     \u001b[0;31m#print(\"you should seek medical attention\")\u001b[0m\u001b[0;34m\u001b[0m\u001b[0;34m\u001b[0m\u001b[0m\n\u001b[1;32m     17\u001b[0m \u001b[0;31m#if x >= \"6\": FIRST USE DO NOT USE\u001b[0m\u001b[0;34m\u001b[0m\u001b[0;34m\u001b[0m\u001b[0m\n",
            "\u001b[0;32m/usr/local/lib/python3.10/dist-packages/ipykernel/kernelbase.py\u001b[0m in \u001b[0;36mraw_input\u001b[0;34m(self, prompt)\u001b[0m\n\u001b[1;32m    849\u001b[0m                 \u001b[0;34m\"raw_input was called, but this frontend does not support input requests.\"\u001b[0m\u001b[0;34m\u001b[0m\u001b[0;34m\u001b[0m\u001b[0m\n\u001b[1;32m    850\u001b[0m             )\n\u001b[0;32m--> 851\u001b[0;31m         return self._input_request(str(prompt),\n\u001b[0m\u001b[1;32m    852\u001b[0m             \u001b[0mself\u001b[0m\u001b[0;34m.\u001b[0m\u001b[0m_parent_ident\u001b[0m\u001b[0;34m,\u001b[0m\u001b[0;34m\u001b[0m\u001b[0;34m\u001b[0m\u001b[0m\n\u001b[1;32m    853\u001b[0m             \u001b[0mself\u001b[0m\u001b[0;34m.\u001b[0m\u001b[0m_parent_header\u001b[0m\u001b[0;34m,\u001b[0m\u001b[0;34m\u001b[0m\u001b[0;34m\u001b[0m\u001b[0m\n",
            "\u001b[0;32m/usr/local/lib/python3.10/dist-packages/ipykernel/kernelbase.py\u001b[0m in \u001b[0;36m_input_request\u001b[0;34m(self, prompt, ident, parent, password)\u001b[0m\n\u001b[1;32m    893\u001b[0m             \u001b[0;32mexcept\u001b[0m \u001b[0mKeyboardInterrupt\u001b[0m\u001b[0;34m:\u001b[0m\u001b[0;34m\u001b[0m\u001b[0;34m\u001b[0m\u001b[0m\n\u001b[1;32m    894\u001b[0m                 \u001b[0;31m# re-raise KeyboardInterrupt, to truncate traceback\u001b[0m\u001b[0;34m\u001b[0m\u001b[0;34m\u001b[0m\u001b[0m\n\u001b[0;32m--> 895\u001b[0;31m                 \u001b[0;32mraise\u001b[0m \u001b[0mKeyboardInterrupt\u001b[0m\u001b[0;34m(\u001b[0m\u001b[0;34m\"Interrupted by user\"\u001b[0m\u001b[0;34m)\u001b[0m \u001b[0;32mfrom\u001b[0m \u001b[0;32mNone\u001b[0m\u001b[0;34m\u001b[0m\u001b[0;34m\u001b[0m\u001b[0m\n\u001b[0m\u001b[1;32m    896\u001b[0m             \u001b[0;32mexcept\u001b[0m \u001b[0mException\u001b[0m \u001b[0;32mas\u001b[0m \u001b[0me\u001b[0m\u001b[0;34m:\u001b[0m\u001b[0;34m\u001b[0m\u001b[0;34m\u001b[0m\u001b[0m\n\u001b[1;32m    897\u001b[0m                 \u001b[0mself\u001b[0m\u001b[0;34m.\u001b[0m\u001b[0mlog\u001b[0m\u001b[0;34m.\u001b[0m\u001b[0mwarning\u001b[0m\u001b[0;34m(\u001b[0m\u001b[0;34m\"Invalid Message:\"\u001b[0m\u001b[0;34m,\u001b[0m \u001b[0mexc_info\u001b[0m\u001b[0;34m=\u001b[0m\u001b[0;32mTrue\u001b[0m\u001b[0;34m)\u001b[0m\u001b[0;34m\u001b[0m\u001b[0;34m\u001b[0m\u001b[0m\n",
            "\u001b[0;31mKeyboardInterrupt\u001b[0m: Interrupted by user"
          ]
        }
      ],
      "source": [
        "'''list = [\"headache\", \"chest pain\", \"fever\", \"nausea\", \"vomiting\", \"back pain\"]\n",
        "symptoms = input(\"Enter your main symptom: \")\n",
        "y = \"yes\"\n",
        "n = \"n\"\n",
        "x = input(\"On a scale of 1-10, 10 being the worst, how would you rate your current pain? \")\n",
        "xx = input(\"Is it common for you to experience headaches? \")\n",
        "\n",
        "\n",
        "\n",
        "#if symptoms.lower() == list[0]:\n",
        "\n",
        "for symptom in list:\n",
        "    break\n",
        "if symptom == list[0]:\n",
        "    print(input(x))\n",
        "    #print(\"you should seek medical attention\")\n",
        "#if x >= \"6\": FIRST USE DO NOT USE\n",
        " #   print(\"You should seek immediate medical attention! \") FIRST USE DO NOT USE\n",
        "\n",
        "if x < \"6\":\n",
        "    print(xx)\n",
        "\n",
        "if xx == y:\n",
        "    print(\"Triggers of a benign headache include, but aren't limited to: \\n Allergies\\nLack of Sleep\\nStress\\nNew Medication(s)\\nDehydration\")\n",
        "elif xx == n:\n",
        "    print(\"TESTING 123\")\n",
        "#break\n",
        "\n",
        "    #print(head_ache2_print)FIRST USE DO NOT USE\n",
        "#if str(head_ache2_print) > \"5\" :FIRST USE DO NOT USE\n",
        " #   print(\"You should seek immediate medical attention FIRST USE DO NOT USE\")\n",
        "\n",
        "\n",
        "\n",
        "#answer1 = \"yes\"\n",
        "#answer2 = \"no\"\n",
        "#number_scale = [1,2,3,4,5,6,7,8,9,10]\n",
        "#ns = number_scale\n",
        "#a = \"allergies\"\n",
        "#dh = \"dehydration\"\n",
        "#ls = \"lack of sleep\"\n",
        "#head_ache1 = f'Is having a {list[0]} common for you? '\n",
        "#head_ache2 = f'On a pain scale of 1-10, 10 being the worst, what would you rate the pain of your {list[0]}? '\n",
        "#head_ache1_print = head_ache1\n",
        "#head_ache2_print = head_ache2\n",
        "#head_ache3_print_final = f'A {list[0]} can be caused by a number of everyday factors,\\n most not being life-threatening i.e. {a, dh, ls}, new medications, etc. Only you know how you truly feel, regardless of \\n your pain scale rating. '\n",
        "\n",
        "#print(head_ache3_print_final)"
      ]
    },
    {
      "cell_type": "code",
      "source": [
        "list = [\"headache\", \"chest pain\", \"fever\", \"nausea\", \"vomiting\", \"back pain\"]\n",
        "symptoms = input(\"Enter your main symptom: \")\n",
        "y = \"yes\"\n",
        "n = \"n\"\n",
        "\n",
        "for symptom in list:\n",
        "    if symptoms == list[0]:\n",
        "        while True:\n",
        "            ha1 = input(f'Is your {list[0]} causing nausea, tiredness, sensitivity\\n to light, blurred vision, other new symptoms or \\n not controlled by OTC {list[0]} medications? ')\n",
        "            if ha1 == \"yes\" or \"y\":\n",
        "                print(\"\\n**You should seek Immediate Medical Attention. If you do not have someone\\n that can drive you, please call 911. \\n While not all new onset, severe headaches are a medical emergency\\n it is best to have a medical professional assess you**\")\n",
        "                break\n",
        "            #if ha1 == \"y\":\n",
        "                #print(\"\\n**You should seek Immediate Medical Attention. If you do not have someone\\n that can drive you, please call 911. \\n While not all new onset, severe headaches are a medical emergency\\n it is best to have a medical professional assess you**\")\n",
        "\n",
        "            elif ha1 == \"no\":\n",
        "                print(\"Take motrin or tylenol, as directed.\\n Drink plenty of fluids\\n and rest!\")\n",
        "                #print(f) #input(f'Is your {list[2]} above 102.5? '))\n",
        "            break\n",
        "        break\n",
        "        #print(input(f'Are {list[0]}\\'s normal for you? '))\n",
        "\n",
        "    if symptoms == list[1]:\n",
        "        print(input(f'Are {list[1]} normal for you? '))\n",
        "\n",
        "    if symptoms == list[2]:\n",
        "        while True:\n",
        "            f = input(f'Is your {list[2]} above 102.5? ')\n",
        "            if f == \"yes\":\n",
        "                print(\"Seek Medical Attention\")\n",
        "                continue\n",
        "            if f == \"y\":\n",
        "                print(\"Seek Medical Attention\")\n",
        "\n",
        "            elif f == \"no\":\n",
        "                print(\"Take motrin or tylenol, as directed.\\n Drink plenty of fluids\\n and rest!\")\n",
        "                #print(f) #input(f'Is your {list[2]} above 102.5? '))\n",
        "            break\n",
        "        break\n",
        "\n",
        "\n",
        "\n",
        "    if symptoms == list[3]:\n",
        "        print(input(f'How long have you been experiencing {list[3]}? '))\n",
        "\n",
        "    if symptoms == list[4]:\n",
        "        print(input(f'How long have you been experiencing {list[4]}? '))\n",
        "\n",
        "    if symptoms == list[5]:\n",
        "        print(input(f'Is {list[5]} normal for you? '))"
      ],
      "metadata": {
        "colab": {
          "base_uri": "https://localhost:8080/"
        },
        "id": "BjRS-3DBbA2g",
        "outputId": "d191a899-b3f6-4709-c383-79415c41da30"
      },
      "execution_count": 1,
      "outputs": [
        {
          "output_type": "stream",
          "name": "stdout",
          "text": [
            "Enter your main symptom: fever\n",
            "Is your fever above 102.5? y\n",
            "Seek Medical Attention\n"
          ]
        }
      ]
    },
    {
      "cell_type": "markdown",
      "source": [
        "Massage Techniques. Learning. Training."
      ],
      "metadata": {
        "id": "StUuB1KyaH1A"
      }
    },
    {
      "cell_type": "code",
      "source": [
        "effleurage = f'Effleurage: \\n A French word meaning \"to skim\" or \"to touch lightly on\", is a series of massage strokes\\n used in Swedish massage to warm up the muscle before deep tissue work using petrissage.\\n This is a soothing, stroking movement used at the beginning and the end\\n of the facial and/or body massage'"
      ],
      "metadata": {
        "id": "FZooDWCbPGod"
      },
      "execution_count": null,
      "outputs": []
    },
    {
      "cell_type": "code",
      "source": [
        "print(effleurage)"
      ],
      "metadata": {
        "colab": {
          "base_uri": "https://localhost:8080/"
        },
        "id": "pMsnnfI3a1YD",
        "outputId": "1524c4f8-5e4f-4408-ef39-e447072f4455"
      },
      "execution_count": null,
      "outputs": [
        {
          "output_type": "stream",
          "name": "stdout",
          "text": [
            "Effleurage: \n",
            " a French word meaning \"to skim\" or \"to touch lightly on\", is a series of massage strokes\n",
            " used in Swedish massage to warm up the muscle before deep tissue work using petrissage.\n",
            " This is a soothing, stroking movement used at the beginning and the end\n",
            " of the facial and/or body massage\n"
          ]
        }
      ]
    },
    {
      "cell_type": "code",
      "source": [
        "e = effleurage\n",
        "\n",
        "print(e)"
      ],
      "metadata": {
        "colab": {
          "base_uri": "https://localhost:8080/"
        },
        "id": "AIEDrvaEbMGS",
        "outputId": "7cf721dd-f38f-4db5-ea40-6f97aaa81e5c"
      },
      "execution_count": null,
      "outputs": [
        {
          "output_type": "stream",
          "name": "stdout",
          "text": [
            "Effleurage: \n",
            " a French word meaning \"to skim\" or \"to touch lightly on\", is a series of massage strokes\n",
            " used in Swedish massage to warm up the muscle before deep tissue work using petrissage.\n",
            " This is a soothing, stroking movement used at the beginning and the end\n",
            " of the facial and/or body massage\n"
          ]
        }
      ]
    },
    {
      "cell_type": "code",
      "source": [
        "import pandas as pd\n",
        "data = {\"State\": [\"TX\"],\n",
        "        \"City\": [\"Bay City\"],\n",
        "        \"Population\": [\"380,000,000\"]}\n",
        "frame = pd.DataFrame(data, columns = [\"State\", \"City\", \"Population\"])\n",
        "print(frame)"
      ],
      "metadata": {
        "colab": {
          "base_uri": "https://localhost:8080/"
        },
        "id": "wa8pB1OcWBAb",
        "outputId": "a9f63ac7-c282-4403-c841-2c94003eabb6"
      },
      "execution_count": null,
      "outputs": [
        {
          "output_type": "stream",
          "name": "stdout",
          "text": [
            "  State      City   Population\n",
            "0    TX  Bay City  380,000,000\n"
          ]
        }
      ]
    },
    {
      "cell_type": "code",
      "source": [
        "import sys\n",
        "import numpy as np\n",
        "\n",
        "np.array((1,2,3,4))\n",
        "a = np.array((1,2,3,4))\n",
        "print(a)\n",
        "b = np.array((0, -3, 1, 1.5, 2))\n",
        "print(b)"
      ],
      "metadata": {
        "id": "fcIqqkrlicPC",
        "colab": {
          "base_uri": "https://localhost:8080/"
        },
        "outputId": "b41d68d0-47ce-4739-dd90-465fc97cb927"
      },
      "execution_count": null,
      "outputs": [
        {
          "output_type": "stream",
          "name": "stdout",
          "text": [
            "[1 2 3 4]\n",
            "[ 0.  -3.   1.   1.5  2. ]\n"
          ]
        }
      ]
    }
  ]
}