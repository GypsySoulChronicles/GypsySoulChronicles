{
  "nbformat": 4,
  "nbformat_minor": 0,
  "metadata": {
    "colab": {
      "provenance": [],
      "authorship_tag": "ABX9TyMU9e6qEZgWjpZ8GQjmCtpc",
      "include_colab_link": true
    },
    "kernelspec": {
      "name": "python3",
      "display_name": "Python 3"
    },
    "language_info": {
      "name": "python"
    }
  },
  "cells": [
    {
      "cell_type": "markdown",
      "metadata": {
        "id": "view-in-github",
        "colab_type": "text"
      },
      "source": [
        "<a href=\"https://colab.research.google.com/github/GypsySoulChronicles/GypsySoulChronicles/blob/main/Geometry.ipynb\" target=\"_parent\"><img src=\"https://colab.research.google.com/assets/colab-badge.svg\" alt=\"Open In Colab\"/></a>"
      ]
    },
    {
      "cell_type": "markdown",
      "source": [
        "***GEOMETRY USING PYTHON***"
      ],
      "metadata": {
        "id": "2xfyDtQzLMDb"
      }
    },
    {
      "cell_type": "markdown",
      "source": [
        "***AREA AND PERIMETER OF A SQUARE (DO NOT USE FOR A RECTANGLE)***"
      ],
      "metadata": {
        "id": "c1WL9KgmU09j"
      }
    },
    {
      "cell_type": "code",
      "source": [
        "#area = 12**2 # **2 is how you \"square\" a number in python\n",
        "print(\"To find the area of a square you multiply the length times width and square it\")\n",
        "print(\"To find the perimeter of a square you multiply one side of the square by 4\")\n",
        "area_length = int(input(\"Please enter the length:    \"))\n",
        "area_width = int(input(\"Please enter the width:   \"))\n",
        "peri_length = area_length\n",
        "area = (length * width)\n",
        "perimeter = (peri_length * 4)\n",
        "diagonal = (2**0.5 * area_length)\n",
        "dia = round(diagonal, 2)\n",
        "print(int(area))\n",
        "print(\"The area of the square is:\", area)\n",
        "print(\"The perimeter of the square is:\", perimeter)\n",
        "print(\"The diagonal of the square is: \",dia)"
      ],
      "metadata": {
        "colab": {
          "base_uri": "https://localhost:8080/"
        },
        "id": "MuVb2wxcV2jo",
        "outputId": "599c8969-196e-43aa-f19e-91b332c52de3"
      },
      "execution_count": 32,
      "outputs": [
        {
          "output_type": "stream",
          "name": "stdout",
          "text": [
            "To find the area of a square you multiply the length times width and square it\n",
            "To find the perimeter of a square you multiply one side of the square by 4\n",
            "Please enter the length:    6\n",
            "Please enter the width:   6\n",
            "36\n",
            "The area of the square is: 36\n",
            "The perimeter of the square is: 24\n",
            "The diagonal of the square is:  8.49\n"
          ]
        }
      ]
    },
    {
      "cell_type": "markdown",
      "source": [
        "***FIND THE RADIUS OF A CIRCLE***<br><br>\n",
        "\n",
        "radius = diameter/2<br>\n",
        "<br> diameter is 24\n",
        "\n",
        "radius = diamter/2\n",
        "radius is 12"
      ],
      "metadata": {
        "id": "ndaKfMyjWOTz"
      }
    },
    {
      "cell_type": "code",
      "source": [
        "# REUSABLE CODE! JUST CHANGE THE VALUE OF THE VARIABLES. DON'T CHANGE ANY OF THE OTHER CODE\n",
        "diameter = 24\n",
        "radius = (diameter/2)\n",
        "d = diameter\n",
        "rad = radius\n",
        "rad = r\n",
        "r = int(r)\n",
        "print(r)\n",
        "print(int(r))\n",
        "print(\"The radius of the circle is: \", r)\n",
        "\n",
        "# Circumference\n",
        "\n",
        "circumference = 2* 3.14 * r\n",
        "c = circumference\n",
        "print(c)\n",
        "print(round(c, 1))\n",
        "\n"
      ],
      "metadata": {
        "colab": {
          "base_uri": "https://localhost:8080/"
        },
        "id": "sjRWqednWtUO",
        "outputId": "9701b65f-0ab8-415d-fa76-a4ddfa73204a"
      },
      "execution_count": null,
      "outputs": [
        {
          "output_type": "stream",
          "name": "stdout",
          "text": [
            "12\n",
            "12\n",
            "The radius of the circle is:  12\n",
            "75.36\n",
            "75.4\n"
          ]
        }
      ]
    },
    {
      "cell_type": "markdown",
      "source": [
        "***VOLUME***<br><br>\n",
        "length is 10cm<br> width is 4cm<br> height is 5cm<br><br>\n",
        "**FIND THE VOLUME OF A BOX/RECTANGLE** (THIS IS REUSABLE CODE! ALL YOU HAVE TO DO IS CHANGE THE VALUE OF THE VARIABLE)"
      ],
      "metadata": {
        "id": "MU--zUOMNRec"
      }
    },
    {
      "cell_type": "code",
      "source": [
        "length = 10\n",
        "width = 4\n",
        "height = 5\n",
        "l = length\n",
        "w = width\n",
        "h = height\n",
        "volume = (l * w * h)\n",
        "v = volume\n",
        "print(l * w * h)\n",
        "print(v)\n",
        "print(\"the VOLUME is: \", l * w * h, \"cm\")\n",
        "print(\"the VOLUME is: \", v , \"cm\")"
      ],
      "metadata": {
        "colab": {
          "base_uri": "https://localhost:8080/"
        },
        "id": "_BKNdvkHLbrA",
        "outputId": "e62cdf07-de6e-47d3-d657-7084018ad4ec"
      },
      "execution_count": null,
      "outputs": [
        {
          "output_type": "stream",
          "name": "stdout",
          "text": [
            "200\n",
            "200\n",
            "the VOLUME is:  200 cm\n",
            "the VOLUME is:  200 cm\n"
          ]
        }
      ]
    },
    {
      "cell_type": "markdown",
      "source": [
        "***FIND THE VOLUME OF A CYLINDER***<br><br>\n",
        "volume = pi * r * h <br> pi is 3.14<br> r is the radius of the top circle<br> h is the height <br><br> pi = 3.14 <br> radius = 3cm squared<br> height = 15 cm<br>"
      ],
      "metadata": {
        "id": "11dgZF4_PVs9"
      }
    },
    {
      "cell_type": "code",
      "source": [
        "pi = 3.14\n",
        "radius = 3**2 #squared\n",
        "height = 15\n",
        "p = pi\n",
        "r = radius\n",
        "h = height\n",
        "volume = (p * r * h)\n",
        "print(volume)\n",
        "print(round(3.14 * 9 * 15, 2),\"cm^3\") # cm^3 represents CUBED or a number times itself 3 times. 2 * 2 * 2 = 8 <-- 2^3\n",
        "\n",
        "# To find the volume of a cone pr pyramid with a circle as the bottom you divide the final answer by 1/3\n",
        "cone_volume = volume/3\n",
        "print(cone_volume)"
      ],
      "metadata": {
        "colab": {
          "base_uri": "https://localhost:8080/"
        },
        "id": "4VL9B8AYQJu3",
        "outputId": "019778fb-a7a5-4403-e2ff-537f812a3c11"
      },
      "execution_count": null,
      "outputs": [
        {
          "output_type": "stream",
          "name": "stdout",
          "text": [
            "423.90000000000003\n",
            "423.9 cm^3\n",
            "141.3\n"
          ]
        }
      ]
    }
  ]
}