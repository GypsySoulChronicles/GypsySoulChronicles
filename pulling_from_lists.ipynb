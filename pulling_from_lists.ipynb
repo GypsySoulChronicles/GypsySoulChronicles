{
  "nbformat": 4,
  "nbformat_minor": 0,
  "metadata": {
    "colab": {
      "provenance": [],
      "authorship_tag": "ABX9TyOu+fVcMfgpn2bkd/TdsFV0",
      "include_colab_link": true
    },
    "kernelspec": {
      "name": "python3",
      "display_name": "Python 3"
    },
    "language_info": {
      "name": "python"
    }
  },
  "cells": [
    {
      "cell_type": "markdown",
      "metadata": {
        "id": "view-in-github",
        "colab_type": "text"
      },
      "source": [
        "<a href=\"https://colab.research.google.com/github/GypsySoulChronicles/GypsySoulChronicles/blob/main/pulling_from_lists.ipynb\" target=\"_parent\"><img src=\"https://colab.research.google.com/assets/colab-badge.svg\" alt=\"Open In Colab\"/></a>"
      ]
    },
    {
      "cell_type": "code",
      "execution_count": null,
      "metadata": {
        "id": "rZ5U8b6v2T9E"
      },
      "outputs": [],
      "source": [
        "list = [\"headache\", \"chest pain\", \"fever\", \"nausea\", \"vomiting\", \"back pain\"]\n",
        "symptoms = input(\"Enter your main symptom: \")\n",
        "y = \"yes\"\n",
        "n = \"n\"\n",
        "\n",
        "for symptom in list:\n",
        "    if symptoms == list[0]:\n",
        "        while True:\n",
        "            ha1 = input(f'Is your {list[0]} causing nausea, tiredness, sensitivity\\n to light, blurred vision, other new symptoms or \\n not controlled by OTC {list[0]} medications? ')\n",
        "            if ha1 == \"yes\" or \"y\":\n",
        "                print(\"\\n**You should seek Immediate Medical Attention. If you do not have someone\\n that can drive you, please call 911. \\n While not all new onset, severe headaches are a medical emergency\\n it is best to have a medical professional assess you**\")\n",
        "                continue\n",
        "            #if ha1 == \"y\":\n",
        "               # print(\"\\n**You should seek Immediate Medical Attention. If you do not have someone\\n that can drive you, please call 911. \\n While not all new onset, severe headaches are a medical emergency\\n it is best to have a medical professional assess you**\")\n",
        "                break\n",
        "            if ha1 == \"no\" or \"n\":\n",
        "                print(\"Take motrin or tylenol, as directed.\\n Drink plenty of fluids\\n and rest!\")\n",
        "                #print(f) #input(f'Is your {list[2]} above 102.5? '))\n",
        "            break\n",
        "        break\n",
        "        #print(input(f'Are {list[0]}\\'s normal for you? '))\n",
        "\n",
        "    if symptoms == list[1]:\n",
        "        print(input(f'Are {list[1]} normal for you? '))\n",
        "\n",
        "    if symptoms == list[2]:\n",
        "        while True:\n",
        "            f = input(f'Is your {list[2]} above 102.5? ')\n",
        "            if f == \"yes\":\n",
        "                print(\"Seek Medical Attention\")\n",
        "                continue\n",
        "            if f == \"y\":\n",
        "                print(\"Seek Medical Attention\")\n",
        "\n",
        "            elif f == \"no\":\n",
        "                print(\"Take motrin or tylenol, as directed.\\n Drink plenty of fluids\\n and rest!\")\n",
        "                #print(f) #input(f'Is your {list[2]} above 102.5? '))\n",
        "            break\n",
        "        break\n",
        "\n",
        "\n",
        "\n",
        "    if symptoms == list[3]:\n",
        "        print(input(f'How long have you been experiencing {list[3]}? '))\n",
        "\n",
        "    if symptoms == list[4]:\n",
        "        print(input(f'How long have you been experiencing {list[4]}? '))\n",
        "\n",
        "    if symptoms == list[5]:\n",
        "        print(input(f'Is {list[5]} normal for you? '))"
      ]
    }
  ]
}