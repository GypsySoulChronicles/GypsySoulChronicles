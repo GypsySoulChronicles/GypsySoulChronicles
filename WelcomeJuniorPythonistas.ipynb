{
  "nbformat": 4,
  "nbformat_minor": 0,
  "metadata": {
    "colab": {
      "provenance": [],
      "toc_visible": true,
      "authorship_tag": "ABX9TyP3oK3xLFtRTJ0dm9ncPrqM",
      "include_colab_link": true
    },
    "kernelspec": {
      "name": "python3",
      "display_name": "Python 3"
    },
    "language_info": {
      "name": "python"
    }
  },
  "cells": [
    {
      "cell_type": "markdown",
      "metadata": {
        "id": "view-in-github",
        "colab_type": "text"
      },
      "source": [
        "<a href=\"https://colab.research.google.com/github/GypsySoulChronicles/GypsySoulChronicles/blob/main/WelcomeJuniorPythonistas.ipynb\" target=\"_parent\"><img src=\"https://colab.research.google.com/assets/colab-badge.svg\" alt=\"Open In Colab\"/></a>"
      ]
    },
    {
      "cell_type": "markdown",
      "source": [
        "***PARENTS NOTE: In order to make changes and play with the code provided (to be saved) please mouse over to 'File', click on it, scroll down to 'Save a copy in drive', and make any changes there. Changes will not be able to be saved here. Once you have your copy created mouse up to the upper right of your screen, click on the 'Share' button, and share it with me so that I can check your, or your child's, code for accuracy! Please go back to facebook and send me a message letting me know that you are needing the email address to share this notebook and I will provide it to you."
      ],
      "metadata": {
        "id": "QfAuutEtAD6h"
      }
    },
    {
      "cell_type": "markdown",
      "source": [
        "# WELCOME<br>\n",
        "*I am going to use wording aimed at the younger population. If something is not understood, please do not hesitate to comment a question for me. I will answer as soon as I am able!<br><br>\n",
        "***WELCOME Junior Pythonistas***<br>\n",
        "You are at the very beginning of a journey to learning the Python Programming Language.* <br>\n",
        "\n",
        "**DEFINITIONS**<br>\n",
        "\n",
        "***variable:*** a user-designated character or word that will take a value and will be the usable/reusable part of your code. A variable can be anything that you want it to be, just remember to use something that makes sense to you for what you are working on<br>***EXAMPLE:***<br>\n",
        " You are working with kittens and you have 7 females and 3 males. Good variables would be:<br>\n",
        " kittens_f = 7<br> (kittens_f is the variable for the females)<br>\n",
        " kittens_m = 3<br> (kittens_m is the variable for the males)<br><br>\n",
        " ***VARIABLES*** in python code are also written in lower case letters, with NO OPEN SPACE like:<br>\n",
        " red_hat<br>\n",
        " big_bike<br>\n",
        " math_problems_1<br>\n",
        " **AND ALWAYS USE YOUR VARIABLE EXACTLY AS YOU DEFINED IT**<br> FOR EXAMPLE: use red_hat as red_hat NOT Red_Hat. You will get an error!<br>\n",
        " There are other characters that a variable can not start with but we will go over those later in your lessons as you progress.<br><br>\n",
        "\n",
        "***value:*** the number, letter, word, sentence, list, dictionary, and more assigned to a variable <br><br>\n",
        "***EXAMPLE:***<br>\n",
        "x = 4  (x is the variable, 4 is the value)<br>\n",
        "y = \"Hello, World\" (y is the variable, \"Hello, World\" is the value -- in this particular case the value is a string and will print Hello, World)\n",
        "<br><br>\n",
        "***string:*** anything that you want printed \"as typed\". Must be included inside either single (' ') or double quotation (\" \")marks.<br>\n",
        "***EXAMPLE***<br>\n",
        "\"This is a string\" - will print: This is a string<br>\n",
        "'This is also a string' - will print: This is also a string<br>\n",
        "This is a string (with NO quotation marks will give you an error)<br>\n",
        "<br>\n",
        "***integer:*** a whole number or numerical value. 2,4,6,8,10 are all whole number numbers. Does not require quotation marks. Do not use quotation marks (' ') (\" \"). In later lessons we will discuss when to use integers in quotation marks (\" \") but it changes the 'type' and it is a good habit to learn to not wrap integers. <br><br>\n",
        "***EXAMPLE:***<br>\n",
        "variable_int = 4 (will print the number 4 as an integer)<br>\n",
        "variable_str = \"4\" (will print the number 4 as a string) <br><br>\n",
        "\n",
        "(Current as of 1:55 PM CST 7/15/2024<br> Will update consistently until complete)\n",
        "\n",
        "\n",
        "\n"
      ],
      "metadata": {
        "id": "e7mX0ECpqjaS"
      }
    },
    {
      "cell_type": "markdown",
      "source": [
        "# ***BEGINNER***"
      ],
      "metadata": {
        "id": "X9zBxZM38R2w"
      }
    },
    {
      "cell_type": "markdown",
      "source": [
        "I am going to use the reference in the Welcome section about the kittens!<br>\n",
        "<br> ADDITION:<br>\n",
        "Jane has 7 female kittens and 3 male kittens.<br>\n",
        "How many kittens does Jane have all together? <br><br>\n",
        "kittens_f = 7  <br>kittens_f is the variable, 7 is the value  (7 female kittens)<br>\n",
        "\n",
        "kittens_m = 3  <br>kittens_m is the variable, 3 is the value  (3 male kittens)\n",
        "<br><br>\n",
        "print(kittens_f + kittens_m)  --> This is the print statement<br>\n",
        "---->(this will do the math for you and is reusable code for 7 + 3 = 10)<br><br>\n",
        "***See the code in action below!***<br><br>\n",
        "YOU HAVE TO RUN YOUR CODE AFTER WRITING IT OUT OR YOU WILL NOT GET AN OUTPUT. TO RUN YOUR CODE MOUSE OVER TO THE TOP, LEFT CORNER OF YOUR CODE CELL TO SOMETHING THAT LOOKS LIKE [ ]. HOVERING YOUR MOUSE INSIDE THE [ ] A ▶ WILL APPEAR. CLICK ON THE ▶ AND THAT WILL RUN YOUR CODE AND GIVE YOU YOUR OUTPUT.<br>\n"
      ],
      "metadata": {
        "id": "j66fYDFg8id0"
      }
    },
    {
      "cell_type": "code",
      "source": [
        "kittens_f = 7\n",
        "kittens_m = 3\n",
        "print(kittens_f + kittens_m)"
      ],
      "metadata": {
        "colab": {
          "base_uri": "https://localhost:8080/"
        },
        "id": "h__G1L0L8hW5",
        "outputId": "1997274d-5981-4acf-bf43-5f3c5b16e1d7"
      },
      "execution_count": null,
      "outputs": [
        {
          "output_type": "stream",
          "name": "stdout",
          "text": [
            "10\n"
          ]
        }
      ]
    },
    {
      "cell_type": "markdown",
      "source": [
        "Go back to the code above and change the value of both variables:<br> change kittens_f from 7 to 12<br> change kittens_m from 3 to 6<br> You just reused code to get a new answer!<br><br> Your new answer should be: 18"
      ],
      "metadata": {
        "id": "dqop0cEh_RI5"
      }
    },
    {
      "cell_type": "markdown",
      "source": [
        "# What is a Print Statement?<br><br>\n",
        "A print statement is how you get your answer to your coded question; without the print statement your code may run but there will be no output. <br><br>\n",
        "\n",
        "***EXAMPLE 1:***<br>\n",
        "print(\"I am learning to code python!\")<br>\n",
        "☝ OUTPUT: I am learning to code python!<br><br>\n",
        "\n",
        "***EXAMPLE 2:***<br>\n",
        "print(8675309)<br>\n",
        "☝ OUTPUT: 8675309<br><br>\n",
        "\n",
        "***You can run code inside of a print statement:***<br>\n",
        "print(3 + 5)<br>\n",
        "☝ OUTPUT: 8<br>\n",
        "NOTE: With quotation marks (' ' or \" \") your OUTPUT will change:<br> print(\"3 + 5\")<br>\n",
        "☝ OUTPUT: 3 + 5<br><br>\n",
        "\n",
        "**In the code below I am going to give examples of both addition and subtraction, one-use code, and reusable code. Change the values, rerun your code and watch how your output changes! You have just learned how to write and reuse code!** 😀\n",
        "\n",
        "\n"
      ],
      "metadata": {
        "id": "3pS28aP475ke"
      }
    },
    {
      "cell_type": "code",
      "source": [
        "# CODE THAT ISN'T REUSABLE IN CODE THAT FOLLOWS BUT YOU CAN CHANGE THE VALUES\n",
        "# INSIDE THE PARENTHESES AND USE IT AS A CALCULATOR\n",
        "# DO NOT PLACE NUMBERS INSIDE QUOTATION MARKS\n",
        "\n",
        "print(3 + 6)\n",
        "print(15 - 7)\n",
        "print(4 + 8)\n",
        "print(11 + 6)\n",
        "\n",
        "# EXAMPLE OF WHAT PRINTS IF YOU PUT NUMBERS INSIDE OF QUOTATION MARKS (\"\" \"/ ' ')\n",
        "print(\"3 + 6\" + \" <--this is what prints if you put your numbers inside quotation marks\")\n",
        "\n"
      ],
      "metadata": {
        "colab": {
          "base_uri": "https://localhost:8080/"
        },
        "id": "ssFIaeJMA3Uu",
        "outputId": "dd92ee82-958e-4879-eddd-d316a5a20a25"
      },
      "execution_count": null,
      "outputs": [
        {
          "output_type": "stream",
          "name": "stdout",
          "text": [
            "9\n",
            "8\n",
            "12\n",
            "17\n",
            "3 + 6 <--this is what prints if you put your numbers inside quotation marks\n"
          ]
        }
      ]
    },
    {
      "cell_type": "markdown",
      "source": [
        "***REUSABLE CODE***"
      ],
      "metadata": {
        "id": "3eN-zBYyI08S"
      }
    },
    {
      "cell_type": "code",
      "source": [
        "# CODE THAT IS REUSABLE\n",
        "# THERE WILL BE NO OUTPUT HERE BUT YOU HAVE TO RUN THIS CELL FOR FOLLOWING\n",
        "# CELLS TO WORK. IF YOU EVER RECEIVE AN ERROR AND YOU KNOW YOUR CODE IS CORRECT\n",
        "# RERUN ALL OF YOUR PREVIOUS CELLS\n",
        "\n",
        "x = 3 + 6\n",
        "y = 6 - 4 # you can change the math problem, rerun the cell, and the variable 'y' will update\n",
        "#    for use in code that follows. Be sure to rerun this cell after you change the value, or math problem.\n",
        "\n"
      ],
      "metadata": {
        "id": "eL35to-ZBKQQ"
      },
      "execution_count": null,
      "outputs": []
    },
    {
      "cell_type": "code",
      "source": [
        "print(x) # Your output will be 9\n",
        "print(y) # Your output will be 2\n",
        "\n",
        "# FOR THIS CODE TO WORK YOU HAVE TO RUN THE CELL, OR CODE, ABOVE IT\n",
        "# WHERE THE VALUE OF X HAS BEEN DEFINED OR YOU WILL GET AN ERROR"
      ],
      "metadata": {
        "colab": {
          "base_uri": "https://localhost:8080/"
        },
        "id": "lXPU3T6TBT1R",
        "outputId": "82ab63f5-62c2-4686-b4cd-d22a4709bcd9"
      },
      "execution_count": null,
      "outputs": [
        {
          "output_type": "stream",
          "name": "stdout",
          "text": [
            "9\n",
            "2\n"
          ]
        }
      ]
    },
    {
      "cell_type": "markdown",
      "source": [
        "***REUSABLE CODE:***<br><br>\n",
        "In the code below, change the value of m and n only. Rerun your code and watch your output change!\n",
        "\n",
        "***NOTICE that the variables are different (m and n) than in the previous code! If you use x and y again you will get the value of the previously defined variables (x and y) and your OUTPUT/ANSWER will be wrong!*** In any program that you ever write you have to be aware of the variables that you create and their value(s)!<br>\n",
        "This also has a few extra options, do not worry about the shortening of the variables, we will go over that later. I just want you to see the potential of what python can do."
      ],
      "metadata": {
        "id": "Z-dL-By9FQ-q"
      }
    },
    {
      "cell_type": "code",
      "source": [
        "m = 13\n",
        "n = 9\n",
        "subtract = (n - m)\n",
        "add = (m + n)\n",
        "s = subtract # we will go over later. Shortening variables to make code easier to write later.\n",
        "a = add # we will go over later. Shortening variables to make code easier to write later.\n",
        "\n",
        "print(subtract)\n",
        "print(add)\n",
        "print(s)\n",
        "print(a)"
      ],
      "metadata": {
        "colab": {
          "base_uri": "https://localhost:8080/"
        },
        "id": "bxTYYDNKFd-u",
        "outputId": "daaeef6e-98b5-492d-bed2-871bd4fd7120"
      },
      "execution_count": null,
      "outputs": [
        {
          "output_type": "stream",
          "name": "stdout",
          "text": [
            "-4\n",
            "22\n",
            "-4\n",
            "22\n"
          ]
        }
      ]
    },
    {
      "cell_type": "markdown",
      "source": [
        "# PRINT STATEMENT PRACTICE -- BE SURE THAT YOU CREATED A COPY, AS MENTIONED AT THE VERY TOP OF THIS PAGE, SO THAT YOU CAN SAVE YOUR WORK\n",
        "\n",
        "***Create a print statement to output the answers to the following math problems. You can create whatever statement you want, one-time use or reusable, whatever you are more comfortable with -- as long as the OUTPUT/ANSWER is correct.***\n",
        "<br><br><br>\n",
        "\n",
        "\n",
        "\n"
      ],
      "metadata": {
        "id": "-285F2nIIHnw"
      }
    },
    {
      "cell_type": "markdown",
      "source": [
        "1.<br>2 + 7"
      ],
      "metadata": {
        "id": "QeuEhgTvN8Kf"
      }
    },
    {
      "cell_type": "code",
      "source": [
        "# START WRITING YOUR CODE BELOW. I STARTED THIS FIRST ONE FOR YOU AS ONE-TIME CODE. PLEASE DELETE ALL SPACE INSIDE THE ( )\n",
        "# EXAMPLE: print(5 + 5) Do not use the = sign.\n",
        "\n",
        "print(   )"
      ],
      "metadata": {
        "colab": {
          "base_uri": "https://localhost:8080/"
        },
        "id": "zarT7ldiJZGe",
        "outputId": "53d3cb85-ff66-40b1-b9ff-5a01ae2cd8dd"
      },
      "execution_count": null,
      "outputs": [
        {
          "output_type": "stream",
          "name": "stdout",
          "text": [
            "\n"
          ]
        }
      ]
    },
    {
      "cell_type": "markdown",
      "source": [
        "2.<br>4 + 3"
      ],
      "metadata": {
        "id": "hApuX7ybOAtR"
      }
    },
    {
      "cell_type": "code",
      "source": [],
      "metadata": {
        "id": "ZKMz31OeOV4h"
      },
      "execution_count": null,
      "outputs": []
    },
    {
      "cell_type": "markdown",
      "source": [
        "3.<BR>9 + 5"
      ],
      "metadata": {
        "id": "7HSnIDLIOEcL"
      }
    },
    {
      "cell_type": "code",
      "source": [],
      "metadata": {
        "id": "ed2gC4fKJY_W"
      },
      "execution_count": null,
      "outputs": []
    },
    {
      "cell_type": "markdown",
      "source": [
        "4.<br> 9 - 5"
      ],
      "metadata": {
        "id": "lGgRveVxOXTT"
      }
    },
    {
      "cell_type": "code",
      "source": [],
      "metadata": {
        "id": "S7C3GKFlJU9r"
      },
      "execution_count": null,
      "outputs": []
    },
    {
      "cell_type": "markdown",
      "source": [
        "5.<br>4 - 3"
      ],
      "metadata": {
        "id": "nOdXGlgUOdEx"
      }
    },
    {
      "cell_type": "code",
      "source": [],
      "metadata": {
        "id": "HjzjOVeCJUtc"
      },
      "execution_count": null,
      "outputs": []
    },
    {
      "cell_type": "markdown",
      "source": [
        "6.<br>\n",
        "7 - 2"
      ],
      "metadata": {
        "id": "r7KYy8a3Ohbt"
      }
    },
    {
      "cell_type": "code",
      "source": [],
      "metadata": {
        "id": "O5MdcEjdJUi8"
      },
      "execution_count": null,
      "outputs": []
    },
    {
      "cell_type": "markdown",
      "source": [
        "**You can use the following cells, or create even more cells, to practice on your own. There is no such thing as 'too much practice'** <br>***HAPPY CODING!***"
      ],
      "metadata": {
        "id": "l1xeDRgVOmhP"
      }
    },
    {
      "cell_type": "code",
      "source": [],
      "metadata": {
        "id": "LAxuFdqsJUWH"
      },
      "execution_count": null,
      "outputs": []
    },
    {
      "cell_type": "code",
      "source": [],
      "metadata": {
        "id": "CZ4NppItJTwJ"
      },
      "execution_count": null,
      "outputs": []
    },
    {
      "cell_type": "markdown",
      "source": [
        "# LESSON 1a - START HERE REGARDLESS OF YOUR GRADE FOR THE PYTHON TRAINING. IF YOU UNDERSTAND THE MATH PORTION YOU SHOULD BE ABLE TO MOVE THROUGH HERE PRETTY FAST!\n",
        "\n",
        "\"Hundreds of Gum Balls\"<br>\n",
        "Page 196 in Brain Quest's 2nd Grade Workbook\n",
        "Standard Math (addition and subtraction) ---> Code<br><br>\n",
        "Addition can be written in any order (commutative property), <br>\n",
        "***EXAMPLE:*** 123 + 192  OR 192 + 123<br>\n",
        "and you will get the same answer."
      ],
      "metadata": {
        "id": "lLhL89k5jwYZ"
      }
    },
    {
      "cell_type": "markdown",
      "source": [
        "1. 162 ➕ 199 = ?<br><br>\n",
        "Using letters as variables and a proper print statement -- solve the equation above!\n",
        "\n",
        "\n",
        "\n",
        "\n"
      ],
      "metadata": {
        "id": "c2JMb3TNkPcm"
      }
    },
    {
      "cell_type": "code",
      "source": [
        "a = 162\n",
        "b = 199\n",
        "print(a + b)\n",
        "print(162 + 199) # Checking your math and code. if these numbers print differently check your numbers used as input"
      ],
      "metadata": {
        "colab": {
          "base_uri": "https://localhost:8080/"
        },
        "id": "anq9nHT2ly2-",
        "outputId": "648c6b8c-f06f-41e1-cd3d-4e6745d0754f"
      },
      "execution_count": null,
      "outputs": [
        {
          "output_type": "stream",
          "name": "stdout",
          "text": [
            "361\n"
          ]
        }
      ]
    },
    {
      "cell_type": "code",
      "source": [
        "c = (a + b) # reusable code. all you have to do is change the values for a and b above and rerun both cells\n",
        "print(z)\n",
        "print(162 + 199) # checking your math/code. if these numbers are different check your numbers used as input"
      ],
      "metadata": {
        "colab": {
          "base_uri": "https://localhost:8080/"
        },
        "id": "tteK1DQHmnwo",
        "outputId": "7ff6acd5-5873-4ddd-9bbb-e6b35273bb2f"
      },
      "execution_count": null,
      "outputs": [
        {
          "output_type": "stream",
          "name": "stdout",
          "text": [
            "361\n",
            "361\n"
          ]
        }
      ]
    },
    {
      "cell_type": "markdown",
      "source": [
        "2. 265 ➕ 198 = ?"
      ],
      "metadata": {
        "id": "CBd5xCZKmyHl"
      }
    },
    {
      "cell_type": "code",
      "source": [
        "d = 265\n",
        "e = 198\n",
        "print(d + e)\n",
        "print(265 + 198) # checking your math/code"
      ],
      "metadata": {
        "colab": {
          "base_uri": "https://localhost:8080/"
        },
        "id": "-8gxZuu-n0QC",
        "outputId": "5aaad7ad-ddbe-4dff-b3af-1ee0d93aac63"
      },
      "execution_count": null,
      "outputs": [
        {
          "output_type": "stream",
          "name": "stdout",
          "text": [
            "463\n",
            "463\n"
          ]
        }
      ]
    },
    {
      "cell_type": "code",
      "source": [
        "f = (d + e) #reusable code. all you have to do is change the values for d and e above and rerun both cells\n",
        "print(f)"
      ],
      "metadata": {
        "colab": {
          "base_uri": "https://localhost:8080/"
        },
        "id": "zoZWxSfuqCuc",
        "outputId": "1a8d8fd3-574d-437a-f3f2-1af93801510e"
      },
      "execution_count": null,
      "outputs": [
        {
          "output_type": "stream",
          "name": "stdout",
          "text": [
            "463\n"
          ]
        }
      ]
    },
    {
      "cell_type": "markdown",
      "source": [
        "***YOUR TURN!***<br><br>\n",
        "**Time to code yourself! For this math problem, use the following letters as variables: <br>\n",
        "g<br>h<br>i<br><br>\n",
        "\n",
        "3. 177 ➕ 206 = ?"
      ],
      "metadata": {
        "id": "8V_wFRjLpuVx"
      }
    },
    {
      "cell_type": "code",
      "source": [
        "# WRITE YOUR CODE BELOW\n",
        "# BE SURE TO WRITE A PRINT STATEMENT TO CHECK YOUR MATH/CODE\n",
        "# YOU CAN LOOK AT THE ABOVE CODE IF YOU GET STUCK\n",
        "\n",
        "g =\n",
        "\n"
      ],
      "metadata": {
        "id": "j9hCs-FeoH_v"
      },
      "execution_count": null,
      "outputs": []
    },
    {
      "cell_type": "code",
      "source": [],
      "metadata": {
        "id": "8a8izg47q-E5"
      },
      "execution_count": null,
      "outputs": []
    },
    {
      "cell_type": "code",
      "source": [],
      "metadata": {
        "id": "_pFztPaMq9zE"
      },
      "execution_count": null,
      "outputs": []
    },
    {
      "cell_type": "markdown",
      "source": [
        "4. 236 ➕ 185 = ?<br><br>\n",
        "Use the variables:<br>\n",
        "j<br>k<br>l"
      ],
      "metadata": {
        "id": "sH10ymS7skI8"
      }
    },
    {
      "cell_type": "code",
      "source": [],
      "metadata": {
        "id": "Ne7v2JXzssnB"
      },
      "execution_count": null,
      "outputs": []
    },
    {
      "cell_type": "code",
      "source": [],
      "metadata": {
        "id": "XMiRrIyysscx"
      },
      "execution_count": null,
      "outputs": []
    },
    {
      "cell_type": "code",
      "source": [],
      "metadata": {
        "id": "qzauIDObsr9Y"
      },
      "execution_count": null,
      "outputs": []
    },
    {
      "cell_type": "markdown",
      "source": [
        "# LESSON 1b <br>\n",
        "\"Hundreds of Gum Balls\"<br>\n",
        "Page 196 in Brain Quest's 2nd Grade Workbook<br>\n",
        "Word Problems ---> Code"
      ],
      "metadata": {
        "id": "Lyy1q6aUSgIO"
      }
    },
    {
      "cell_type": "markdown",
      "source": [
        "1. How many BLUE gumballs are there if there are 265 gumballs IN TOTAL and there are 198 RED gumballs?"
      ],
      "metadata": {
        "id": "5Zr1eBTFTEKy"
      }
    },
    {
      "cell_type": "code",
      "source": [
        "in_total = 265 # total number of known gumballs, both blue and red\n",
        "red_gumballs = 198 # known number of red guballs\n",
        "blue_gumballs = (in_total - red_gumballs) # the number of blue gumballs that you are needing to know which is\n",
        "#the difference between the total number of gumballs and the known number of red gumballs\n",
        "print(blue_gumballs)\n",
        "print(\"There are\", blue_gumballs, \"blue gumballs\") # DON'T FOCUS ON THIS PRINT STATEMENT-- YOU WILL LEARN THIS, AND MORE, LATER"
      ],
      "metadata": {
        "colab": {
          "base_uri": "https://localhost:8080/"
        },
        "id": "HwofK1uZTBqC",
        "outputId": "e4bf6cb8-beaf-4901-96e1-c84671b9a06c"
      },
      "execution_count": null,
      "outputs": [
        {
          "output_type": "stream",
          "name": "stdout",
          "text": [
            "67\n",
            "There are 67 blue gumballs\n"
          ]
        }
      ]
    },
    {
      "cell_type": "markdown",
      "source": [
        "An easy way to check your math is to run the problem inside of a print statement as shown below:"
      ],
      "metadata": {
        "id": "A8aPXMA7Y-Ra"
      }
    },
    {
      "cell_type": "code",
      "source": [
        "print(265 - 198)"
      ],
      "metadata": {
        "colab": {
          "base_uri": "https://localhost:8080/"
        },
        "id": "oiMM8uEjanlT",
        "outputId": "1aa3e4c4-7097-49d0-809f-a0850b65ae96"
      },
      "execution_count": null,
      "outputs": [
        {
          "output_type": "stream",
          "name": "stdout",
          "text": [
            "67\n"
          ]
        }
      ]
    },
    {
      "cell_type": "markdown",
      "source": [
        "When checking your math in a print statement, or setting up your code, be sure to place the numbers in the correct order!<br>\n",
        "***EXAMPLE:*** 10 - 6 needs to be set up as 10 - 6 because 6 - 10 will give you a wrong answer. You can use a print statement after every word/code problem if you want."
      ],
      "metadata": {
        "id": "xbbVe8q4Z9yt"
      }
    },
    {
      "cell_type": "markdown",
      "source": [
        "2. How many PINK gumballs are there if there are 206 gumballs IN TOTAL and there are 177 PURPLE gumballs?"
      ],
      "metadata": {
        "id": "8IHDWtQxVVj1"
      }
    },
    {
      "cell_type": "code",
      "source": [
        "#  I'M GOING TO START THE CODE FOR YOU AND YOU FILL IN THE REST\n",
        "\n",
        "in_total =\n",
        "purple_gumballs=\n",
        "pink_gumballs = (in_total - purple_gumballs)\n",
        "print(pink_gumballs)\n",
        "print(\"There are\", pink_gumballs, \"pink gumballs\")\n",
        "\n",
        "# Your answer should be 29. If you got anything different check your value assigned to your variable. in_total should\n",
        "# have 206 and purple_gumballs should have 177 as their values\n",
        "\n"
      ],
      "metadata": {
        "colab": {
          "base_uri": "https://localhost:8080/",
          "height": 106
        },
        "id": "-vRhpkpCVihs",
        "outputId": "9e9bf750-a5d0-4824-ab55-97a9b708626d"
      },
      "execution_count": null,
      "outputs": [
        {
          "output_type": "error",
          "ename": "SyntaxError",
          "evalue": "incomplete input (<ipython-input-31-742c7bc27ec5>, line 1)",
          "traceback": [
            "\u001b[0;36m  File \u001b[0;32m\"<ipython-input-31-742c7bc27ec5>\"\u001b[0;36m, line \u001b[0;32m1\u001b[0m\n\u001b[0;31m    '''#  I'M GOING TO START THE CODE FOR YOU AND YOU FILL IN THE REST\u001b[0m\n\u001b[0m    ^\u001b[0m\n\u001b[0;31mSyntaxError\u001b[0m\u001b[0;31m:\u001b[0m incomplete input\n"
          ]
        }
      ]
    },
    {
      "cell_type": "code",
      "source": [
        "print() # if you want to check your math"
      ],
      "metadata": {
        "id": "yp8BXhq7YyAB"
      },
      "execution_count": null,
      "outputs": []
    },
    {
      "cell_type": "markdown",
      "source": [
        "3. How many YELLOW gumballs are there if there are 236 gumballs IN TOTAL and there are 185 GREEN gumballs?<br>\n",
        "Use:<br>\n",
        "in_total<br>\n",
        "green_gumballs<br>\n",
        "yellow_gumballs = (in_total - green_gumballs)<br>\n",
        "as your variables and fill in their appropriate values."
      ],
      "metadata": {
        "id": "0W0sbmIEX7ZG"
      }
    },
    {
      "cell_type": "code",
      "source": [
        "# WRITE YOUR CODE HERE\n",
        "# create your variables and then add their values\n",
        "# create a variable that subtracts the number of GREEN gumballs from the TOTAL number of gumballs\n",
        "# create a print statement using the variable name you created using the subtraction problem.\n",
        "# Look at any of the above code if you get stuck\n",
        "# if you get confused, it is okay, learning new things is hard... you've got this!\n",
        "\n",
        "\n",
        "\n",
        "\n"
      ],
      "metadata": {
        "id": "BlASDFx8Y8Tr"
      },
      "execution_count": null,
      "outputs": []
    },
    {
      "cell_type": "code",
      "source": [
        "print() # if you want to check your math"
      ],
      "metadata": {
        "id": "RGDFVcT1afG3"
      },
      "execution_count": null,
      "outputs": []
    },
    {
      "cell_type": "markdown",
      "source": [
        "***TAKE A BREAK! COME BACK AND REDO EACH OF THE ABOVE PROBLEMS AS MANY TIMES AS YOU NEED TO TO FEEL COMFORTABLE! YOU ARE DOING GREAT!***<BR><BR>\n",
        "**YOU HAVE NOW WRITTEN PYTHON COMPUTER CODE!<br> CONGRATULATIONS!!!**"
      ],
      "metadata": {
        "id": "SSbU7OQHfASr"
      }
    },
    {
      "cell_type": "code",
      "source": [],
      "metadata": {
        "id": "oIF7qW1OagQw"
      },
      "execution_count": null,
      "outputs": []
    },
    {
      "cell_type": "code",
      "source": [],
      "metadata": {
        "id": "gW_tNGrSagKb"
      },
      "execution_count": null,
      "outputs": []
    },
    {
      "cell_type": "code",
      "source": [],
      "metadata": {
        "id": "pE3wR5XyagFL"
      },
      "execution_count": null,
      "outputs": []
    },
    {
      "cell_type": "markdown",
      "source": [
        "# LESSON 2 NOTES <br>\n",
        "**DO NOT GET STUCK ON ANY OF THIS. USE THIS AS A REFERENCE FOR FUTURE LESSONS!**<br>\n",
        "Multiplication and Division in Python"
      ],
      "metadata": {
        "id": "ZB4N3iTw9JcI"
      }
    },
    {
      "cell_type": "code",
      "source": [],
      "metadata": {
        "id": "vXDNBTsS-Pqd"
      },
      "execution_count": null,
      "outputs": []
    },
    {
      "cell_type": "markdown",
      "source": [
        "In Python Code you use the asterisk, or *, for multiplication and the forward slash, or  /, for division. <br>\n",
        "EXAMPLE: <br>\n",
        "6 * 6 = 36 ---> will output as a whole number, or integer<br>\n",
        "36 \\ 6 = 6  ---> will output as a float, or decimal<br>\n"
      ],
      "metadata": {
        "id": "hYEsqjnr9WdS"
      }
    },
    {
      "cell_type": "code",
      "source": [
        "print(6 * 6) # will print/output, as a whole number, or integer\n",
        "print(36 / 6) # will print/output with a decimal point in division because it is considered a float.\n",
        "# I will show you below how to change the float to a string but don't get caught up in it right now\n",
        "print(int(36 / 6)) # will print/output as a whole number, or integer, without a decimal place"
      ],
      "metadata": {
        "id": "wb_ntkLAagAI",
        "colab": {
          "base_uri": "https://localhost:8080/"
        },
        "outputId": "e1d824e0-a8ce-44c9-9c00-72e4322947ba"
      },
      "execution_count": null,
      "outputs": [
        {
          "output_type": "stream",
          "name": "stdout",
          "text": [
            "36\n",
            "6.0\n",
            "6\n"
          ]
        }
      ]
    },
    {
      "cell_type": "code",
      "source": [
        "ab = (6 * 6) # will output/print a whole number, or integer\n",
        "cd = (36 / 6) # will output, or print, a float, or decimal\n",
        "print(ab) # whole number, or integer\n",
        "print(float(ab)) # forces output as a float, or decimal\n",
        "print(cd) # float, or decimal\n",
        "print(int(cd)) # forces output as a whole number, or integer"
      ],
      "metadata": {
        "id": "GczUA8T1af36",
        "colab": {
          "base_uri": "https://localhost:8080/"
        },
        "outputId": "5fa8a540-8418-4cc6-f77b-ffa5662e3725"
      },
      "execution_count": null,
      "outputs": [
        {
          "output_type": "stream",
          "name": "stdout",
          "text": [
            "36\n",
            "36.0\n",
            "6.0\n",
            "6\n"
          ]
        }
      ]
    },
    {
      "cell_type": "markdown",
      "source": [
        "***Where a float is needed:***<br>\n",
        "Fractions and Decimals<br>\n",
        "10th place - 10,000th place<br><br>\n",
        "DO NOT GET STUCK ON THESE! LOOK AT THEM AND MOVE ON! THIS IS JUST VISUAL INFORMATION OF WHAT PYTHON CAN DO WITH MATH!\n"
      ],
      "metadata": {
        "id": "Fd48EwDS_ow3"
      }
    },
    {
      "cell_type": "code",
      "source": [
        "print((113 / 72), \"<-- output will be a float that repeats, or repeating decimal\") # DO NOT LET THIS CONFUSE YOU! Just presenting a little information for future lessons\n",
        "print(round(113/72, 0), \"<-- output as a float, or decimal\") # will round UP to the next whole number as a float, or decimal\n",
        "print(int(round(113/72)), \"<-- output as a whole number, or integer\") # will round up to the next whole number as a whole number, non-decimal\n",
        "print(round(113/72, 1), \"<-- outputs rounded to the 10ths place\") # 10ths place\n",
        "print(round(113/72, 2), \"<-- outputs rounded to the 100ths place\") # 100ths place\n",
        "print(round(113/72, 3), \"<-- outputs rounded to the 1000ths place\") # 1000ths place\n",
        "print(round(113/72, 4), \"<-- outputs the rounded to 10,000ths place\") # 10 1000ths place\n",
        "print(round(cd) * (ab), \"<-- outputs as a whole number, or integer\") #**DO NOT GET STUCK ON! JUST INFORMATION FOR LATER.\n",
        "print((cd) * (ab), \"<-- outputs as a float, or decimal\") # will print/output as a float, or decimal\n",
        "\n"
      ],
      "metadata": {
        "colab": {
          "base_uri": "https://localhost:8080/"
        },
        "id": "vaHPnTZP_sV9",
        "outputId": "b98386a4-9c1a-41ae-ff93-d27eee726bbf"
      },
      "execution_count": null,
      "outputs": [
        {
          "output_type": "stream",
          "name": "stdout",
          "text": [
            "1.5694444444444444 <-- output will be a float that repeats, or repeating decimal\n",
            "2.0 <-- output as a float, or decimal\n",
            "2 <-- output as a whole number, or integer\n",
            "1.6 <-- outputs rounded to the 10ths place\n",
            "1.57 <-- outputs rounded to the 100ths place\n",
            "1.569 <-- outputs rounded to the 1000ths place\n",
            "1.5694 <-- outputs the rounded to 10,000ths place\n",
            "216 <-- outputs as a whole number, or integer\n",
            "216.0 <-- outputs as a float, or decimal\n"
          ]
        }
      ]
    },
    {
      "cell_type": "markdown",
      "source": [
        "# LESSON 2a<br>\n",
        "Multiplication and Division"
      ],
      "metadata": {
        "id": "px7oI25GJRo2"
      }
    },
    {
      "cell_type": "markdown",
      "source": [
        "Multiply 6 x 3 = 18<br><BR>\n",
        "In python code you write out either: <br>\n",
        "print(6 * 3) OR<br>\n",
        "num_1 = 6 <--- the numbeer 6, or value of num_1 can be changed<br>\n",
        "num_2 = 3 <-- the number 3, or value of num_2 can be changed<br>\n",
        "num_multiplied = (num_1 * num_2)<br>\n",
        "num_divided = (num_2 / num_1)<br>\n",
        "nm = num_multiplied<br>\n",
        "nd = num_divided<br>\n",
        "print(nm)<br>\n",
        "print(nd)\n",
        "\n"
      ],
      "metadata": {
        "id": "dCeAOEtkJbFx"
      }
    },
    {
      "cell_type": "code",
      "source": [
        "print(6 * 3) # ONE-TIME USE CODE\n",
        "num_1 = 6 #REUSABLE CODE. JUST CHANGE THE VALUE\n",
        "num_2 = 3# REUSABLE CODE. JUST CHANGE THE VALUE\n",
        "num_multiplied = (num_1 * num_2)\n",
        "num_divided = (num_1 / num_2) #MAKE SURE YOU HAVE THE DIVISOR AND DIVIDEND IN THE CORRECT PLACE\n",
        "nm = num_multiplied\n",
        "nd = num_divided\n",
        "print(nm)\n",
        "print(nd)\n",
        "print(int(nd))"
      ],
      "metadata": {
        "colab": {
          "base_uri": "https://localhost:8080/"
        },
        "id": "ZIeP8OaXKruz",
        "outputId": "ae192d3e-ba57-40ca-d5ec-400e5a506a3f"
      },
      "execution_count": null,
      "outputs": [
        {
          "output_type": "stream",
          "name": "stdout",
          "text": [
            "18\n",
            "18\n",
            "2.0\n",
            "2\n"
          ]
        }
      ]
    },
    {
      "cell_type": "markdown",
      "source": [
        "1. Multiply and Divide 12 by 3<br><br>\n",
        "You can write the code however you are comfortable doing so. Be sure to practice all ways, one-time use and reusable code, so that you learn all of the python basics.<br>><br>\n",
        "\n",
        "12 ❌ 3 = ?<br>\n",
        "12 ➗ 3 = ?"
      ],
      "metadata": {
        "id": "WxdZ30pELgAC"
      }
    },
    {
      "cell_type": "code",
      "source": [
        "# WRITE YOUR CODE BELOW\n",
        "\n"
      ],
      "metadata": {
        "id": "5EQ55NaoLaKY"
      },
      "execution_count": null,
      "outputs": []
    },
    {
      "cell_type": "code",
      "source": [],
      "metadata": {
        "id": "LPuCF2BFgvxU"
      },
      "execution_count": null,
      "outputs": []
    },
    {
      "cell_type": "code",
      "source": [],
      "metadata": {
        "id": "8OOAi7O2gvl2"
      },
      "execution_count": null,
      "outputs": []
    },
    {
      "cell_type": "code",
      "source": [],
      "metadata": {
        "id": "G4B53vbfgu4N"
      },
      "execution_count": null,
      "outputs": []
    },
    {
      "cell_type": "code",
      "source": [],
      "metadata": {
        "id": "uzU6h93oMGYi"
      },
      "execution_count": null,
      "outputs": []
    },
    {
      "cell_type": "markdown",
      "source": [],
      "metadata": {
        "id": "_j1QUqOrgx1T"
      }
    }
  ]
}