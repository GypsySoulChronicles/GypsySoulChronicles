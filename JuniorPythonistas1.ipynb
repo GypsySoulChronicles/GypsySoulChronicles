{
  "nbformat": 4,
  "nbformat_minor": 0,
  "metadata": {
    "colab": {
      "provenance": [],
      "authorship_tag": "ABX9TyM8ANq5yDuzOIi77ZQ0OvVS",
      "include_colab_link": true
    },
    "kernelspec": {
      "name": "python3",
      "display_name": "Python 3"
    },
    "language_info": {
      "name": "python"
    }
  },
  "cells": [
    {
      "cell_type": "markdown",
      "metadata": {
        "id": "view-in-github",
        "colab_type": "text"
      },
      "source": [
        "<a href=\"https://colab.research.google.com/github/GypsySoulChronicles/GypsySoulChronicles/blob/main/JuniorPythonistas1.ipynb\" target=\"_parent\"><img src=\"https://colab.research.google.com/assets/colab-badge.svg\" alt=\"Open In Colab\"/></a>"
      ]
    },
    {
      "cell_type": "markdown",
      "source": [
        "**SHORT CODE** <br> List <br> if statements <br>"
      ],
      "metadata": {
        "id": "jCwskHTwYf2n"
      }
    },
    {
      "cell_type": "code",
      "execution_count": 118,
      "metadata": {
        "colab": {
          "base_uri": "https://localhost:8080/"
        },
        "id": "rZ5U8b6v2T9E",
        "outputId": "1cecac72-b12e-48ab-f76f-de13562a83f9"
      },
      "outputs": [
        {
          "output_type": "stream",
          "name": "stdout",
          "text": [
            "Enter your main symptom: headache\n",
            "If you are experiencing a severe, new onset headache\n",
            " please seek Immediate Medical Attention \n",
            "\n",
            "Headache Red Flags \n",
            "\n",
            "Sudden onset or accelerating pattern\n",
            "Maximum intensity of pain at onset (i.e. thunderclap)\n",
            "Worse with valsalva: https://www.healthline.com/health/valsava-maneuver \n",
            "Worse in the morning or at night \n",
            "No similar headache in past \n",
            "Age >50 yr or <5 yr \n",
            "Occipitonuchal headache -- https://www.aans.org/patients/conditions-treatments/occipital-neuralgia\n",
            "Visual disturbances\n",
            "Exertional or postcoital\n",
            "Family or personal history of SAH, cerebral aneurysm, or AVM\n",
            "Focal neurologic signs\n",
            "Diastolic BP >120\n",
            "Papilledema\n",
            "Jaw claudication\n",
            "\n",
            "\n",
            "For more information and causes of headaches in ADULTS, please visit: https://wikem.org/wiki/Headache\n",
            "\n",
            "For more information and causes of headaches in PEDIATRICS (0-18 years old, please visit: https://wikem.org/wiki/Headache_(peds)\n"
          ]
        }
      ],
      "source": [
        "import sys\n",
        "#CREATE A DISCLAIMER THAT NO INFORMATION PROVIDED IS CONSIDERED MEDICAL ADVICE!!! By using this app they agree that they understand!\n",
        "#create links to WikEM for each topic for educational purposes. **Cite WikEM to avoid any issues.\n",
        "#create list to work from:\n",
        "\n",
        "\n",
        "list = [\"headache\", \"chest pain\", \"fever\", \"nausea\", \"vomiting\", \"back pain\"]\n",
        "#create user input section, main presenting symptom\n",
        "symptoms = input(\"Enter your main symptom: \")\n",
        "ha = \"\\n\\nHeadache Red Flags \\n\\nSudden onset or accelerating pattern\\nMaximum intensity of pain at onset (i.e. thunderclap)\\nWorse with valsalva: https://www.healthline.com/health/valsava-maneuver \\nWorse in the morning or at night \\nNo similar headache in past \\nAge >50 yr or <5 yr \\nOccipitonuchal headache -- https://www.aans.org/patients/conditions-treatments/occipital-neuralgia\\nVisual disturbances\\nExertional or postcoital\\nFamily or personal history of SAH, cerebral aneurysm, or AVM\\nFocal neurologic signs\\nDiastolic BP >120\\nPapilledema\\nJaw claudication\\n\"\n",
        "\n",
        "ha1 = \"https://wikem.org/wiki/Headache\"\n",
        "ha2 = \"https://wikem.org/wiki/Headache_(peds)\"\n",
        "\n",
        "if symptoms == list[0]:\n",
        "    print(f\"If you are experiencing a severe, new onset {list[0]}\\n please seek Immediate Medical Attention\",  ha)\n",
        "    print(f'\\nFor more information and causes of {list[0]}s in ADULTS, please visit:', ha1)\n",
        "    print(f'\\nFor more information and causes of {list[0]}s in PEDIATRICS (0-18 years old, please visit:', ha2)\n",
        "\n",
        "\n"
      ]
    },
    {
      "cell_type": "code",
      "source": [
        "student_1_adam = [99,95,88,89,94,100,100,76]\n",
        "s1 = student_1_adam\n",
        "student_2_mary = [76,45,88,66,99,100,98,96]\n",
        "s2 = student_2_mary\n",
        "student_3_david = [99,99,99,99,99,99,99,100]\n",
        "s3 = student_3_david\n",
        "ambers_massage_transcript_grades = [91,99,92,93,99,96,100,95]\n",
        "s4 = ambers_massage_transcript_grades\n",
        "student_count = 4 #IMPORTANT: update as students are added or removed\n",
        "divide_by = int(len(s1 + s2 + s3 + s4)/student_count)\n",
        "#print(divide_by)\n",
        "average_grade = int(round(sum/divide_by))\n",
        "print(average_grade)\n",
        "#print(\"Adam\\'s average grade for the current six weeks is: \")\n",
        "#print(average_grade_adam/divide_by)\n",
        "\n",
        "# add the others, copy and paste. Be sure to change identifying information for\n",
        "# accuracy\n"
      ],
      "metadata": {
        "colab": {
          "base_uri": "https://localhost:8080/"
        },
        "id": "C9C_J5GD41CB",
        "outputId": "396899cc-0513-44fb-c308-d174b0376025"
      },
      "execution_count": 28,
      "outputs": [
        {
          "output_type": "stream",
          "name": "stdout",
          "text": [
            "93\n"
          ]
        }
      ]
    },
    {
      "cell_type": "code",
      "source": [
        "s1.count(100)"
      ],
      "metadata": {
        "colab": {
          "base_uri": "https://localhost:8080/"
        },
        "id": "MpH_BHs2MhZ1",
        "outputId": "db7a0b2a-8594-4c8a-e3a0-ce21e7b18838"
      },
      "execution_count": 24,
      "outputs": [
        {
          "output_type": "execute_result",
          "data": {
            "text/plain": [
              "2"
            ]
          },
          "metadata": {},
          "execution_count": 24
        }
      ]
    },
    {
      "cell_type": "code",
      "source": [
        "sum = 0\n",
        "for num in student_1_adam:\n",
        "    sum += num\n",
        "print(f'Adams average grade is: {average_grade}')"
      ],
      "metadata": {
        "colab": {
          "base_uri": "https://localhost:8080/"
        },
        "id": "aIX2zqGk8f9T",
        "outputId": "942122f2-9167-4b3e-ece0-d1339678073e"
      },
      "execution_count": 29,
      "outputs": [
        {
          "output_type": "stream",
          "name": "stdout",
          "text": [
            "Adams average grade is: 93\n"
          ]
        }
      ]
    },
    {
      "cell_type": "code",
      "source": [
        "print(s1)"
      ],
      "metadata": {
        "colab": {
          "base_uri": "https://localhost:8080/"
        },
        "id": "bemJF6vU8f02",
        "outputId": "ba090d37-2897-4d47-99de-76cba3a598e8"
      },
      "execution_count": 30,
      "outputs": [
        {
          "output_type": "stream",
          "name": "stdout",
          "text": [
            "[99, 95, 88, 89, 94, 100, 100, 76]\n"
          ]
        }
      ]
    },
    {
      "cell_type": "code",
      "source": [
        "sum = 0\n",
        "for num in s1:\n",
        "    sum += num\n",
        "print(f'Adams average grade is: {average_grade}')"
      ],
      "metadata": {
        "colab": {
          "base_uri": "https://localhost:8080/"
        },
        "id": "29XX4mog8ftK",
        "outputId": "fbb12784-ef65-4631-ec21-6f073220e633"
      },
      "execution_count": 122,
      "outputs": [
        {
          "output_type": "stream",
          "name": "stdout",
          "text": [
            "Adams average grade is: 96\n"
          ]
        }
      ]
    },
    {
      "cell_type": "code",
      "source": [
        "sum = 0\n",
        "for num in student_2_mary:\n",
        "    sum += num\n",
        "print(f'Marys average grade is: {round(sum/divide_by)}')"
      ],
      "metadata": {
        "colab": {
          "base_uri": "https://localhost:8080/"
        },
        "id": "drbKGtK08fgJ",
        "outputId": "16229362-352c-4021-ba91-0f33f39ead87"
      },
      "execution_count": 123,
      "outputs": [
        {
          "output_type": "stream",
          "name": "stdout",
          "text": [
            "Marys average grade is: 84\n"
          ]
        }
      ]
    },
    {
      "cell_type": "code",
      "source": [
        "print(s2)"
      ],
      "metadata": {
        "colab": {
          "base_uri": "https://localhost:8080/"
        },
        "id": "ODozsGYc-OHb",
        "outputId": "5fddc354-e42b-4b8e-8923-944e6e4b2504"
      },
      "execution_count": 124,
      "outputs": [
        {
          "output_type": "stream",
          "name": "stdout",
          "text": [
            "[76, 45, 88, 66, 99, 100, 98, 96]\n"
          ]
        }
      ]
    },
    {
      "cell_type": "code",
      "source": [
        "sum = 0\n",
        "for num in student_3_david:\n",
        "    sum += num\n",
        "print(f'Davids average grade is: {round(sum/divide_by)}')"
      ],
      "metadata": {
        "colab": {
          "base_uri": "https://localhost:8080/"
        },
        "id": "wW3R6fQH-OCI",
        "outputId": "67e7610b-4de5-499b-b5bb-a9c342532955"
      },
      "execution_count": 125,
      "outputs": [
        {
          "output_type": "stream",
          "name": "stdout",
          "text": [
            "Davids average grade is: 99\n"
          ]
        }
      ]
    },
    {
      "cell_type": "code",
      "source": [
        "print(s3)"
      ],
      "metadata": {
        "colab": {
          "base_uri": "https://localhost:8080/"
        },
        "id": "NcP768ln-N8k",
        "outputId": "824261ea-c9c4-4996-fc8f-4b27e3c8c676"
      },
      "execution_count": 126,
      "outputs": [
        {
          "output_type": "stream",
          "name": "stdout",
          "text": [
            "[99, 99, 99, 99, 99, 99, 99, 100]\n"
          ]
        }
      ]
    },
    {
      "cell_type": "code",
      "source": [
        "sum = 0\n",
        "for num in s4:\n",
        "    sum += num\n",
        "print(f'Ambers average grade is: {average_grade}')"
      ],
      "metadata": {
        "colab": {
          "base_uri": "https://localhost:8080/"
        },
        "id": "jJ-zRP23C_r8",
        "outputId": "84386d28-60be-4f49-ea64-965e8988066f"
      },
      "execution_count": 127,
      "outputs": [
        {
          "output_type": "stream",
          "name": "stdout",
          "text": [
            "Ambers average grade is: 96\n"
          ]
        }
      ]
    },
    {
      "cell_type": "markdown",
      "source": [
        "**WHILE loop**"
      ],
      "metadata": {
        "id": "QNLtBuSKFLEP"
      }
    },
    {
      "cell_type": "code",
      "source": [
        "i = 1\n",
        "while i <= 5:\n",
        "    print(i)\n",
        "    i = i + 1\n",
        "\n"
      ],
      "metadata": {
        "colab": {
          "base_uri": "https://localhost:8080/"
        },
        "id": "LPbiUFOUFKgR",
        "outputId": "866f7980-dc29-4434-ffe5-712b9eecf906"
      },
      "execution_count": 7,
      "outputs": [
        {
          "output_type": "stream",
          "name": "stdout",
          "text": [
            "1\n",
            "2\n",
            "3\n",
            "4\n",
            "5\n"
          ]
        }
      ]
    },
    {
      "cell_type": "code",
      "source": [
        "list = [\"amber\", \"dawn\",\"amber\", \"dawn\",\"amber\", \"dawn\",\"amber\", \"dawn\",\"dawn\",\"dawn\",\"dawn\",\"dawn\",\"dawn\",\"dawn\",\"dawn\",]\n",
        "while \"amber\" in list:\n",
        "    print(\"amber\")\n",
        "    break"
      ],
      "metadata": {
        "colab": {
          "base_uri": "https://localhost:8080/"
        },
        "id": "9P4D2if3Gdnv",
        "outputId": "027832b2-61cb-4f4f-d1fd-78f330418bf9"
      },
      "execution_count": 16,
      "outputs": [
        {
          "output_type": "stream",
          "name": "stdout",
          "text": [
            "amber\n"
          ]
        }
      ]
    },
    {
      "cell_type": "code",
      "source": [
        "list.count(\"amber\")"
      ],
      "metadata": {
        "colab": {
          "base_uri": "https://localhost:8080/"
        },
        "id": "y-bAcKeYGdgC",
        "outputId": "ce5cc640-c107-44e3-dcda-ed5f1fe4d153"
      },
      "execution_count": 17,
      "outputs": [
        {
          "output_type": "execute_result",
          "data": {
            "text/plain": [
              "4"
            ]
          },
          "metadata": {},
          "execution_count": 17
        }
      ]
    },
    {
      "cell_type": "code",
      "source": [
        "list.count(\"dawn\")"
      ],
      "metadata": {
        "colab": {
          "base_uri": "https://localhost:8080/"
        },
        "id": "GKromSZeLc_J",
        "outputId": "6e6ce29b-4995-4532-8d12-4199aab15140"
      },
      "execution_count": 18,
      "outputs": [
        {
          "output_type": "execute_result",
          "data": {
            "text/plain": [
              "11"
            ]
          },
          "metadata": {},
          "execution_count": 18
        }
      ]
    },
    {
      "cell_type": "markdown",
      "source": [
        "**FIX IT!!!**"
      ],
      "metadata": {
        "id": "TRP1FYaRMVj0"
      }
    },
    {
      "cell_type": "markdown",
      "source": [
        "**WELCOME JUNIOR PYTHONISTAS!**"
      ],
      "metadata": {
        "id": "XTpwYWOQd00s"
      }
    },
    {
      "cell_type": "code",
      "source": [
        "junior_pythonistas = \"Teaching our Youth How to Think like a Python Programmer One Code at a Time!\"\n",
        "jp = junior_pythonistas\n",
        "print(jp)"
      ],
      "metadata": {
        "colab": {
          "base_uri": "https://localhost:8080/"
        },
        "id": "pTgFOWRmdMNx",
        "outputId": "43afaec7-1718-4981-a49e-659537de2f6d"
      },
      "execution_count": 33,
      "outputs": [
        {
          "output_type": "stream",
          "name": "stdout",
          "text": [
            "Teaching our Youth How to Think like a Python Programmer One Code at a Time!\n"
          ]
        }
      ]
    },
    {
      "cell_type": "markdown",
      "source": [
        "**EXAMPLE** of Junior Python Code based on an Elementary Word Problem: <br>\n",
        "Ted has six apples and gives Sam 3 apples. <br>\n",
        "How many apples does Ted have left? <br>\n",
        "\n",
        "In Elementary math we would write this as: <br>\n",
        "6-3 = 3 <br>\n",
        "Ted has 3 apples left."
      ],
      "metadata": {
        "id": "tETbnGLzdzx_"
      }
    },
    {
      "cell_type": "markdown",
      "source": [
        "In Python Code we would code this out as follows: <br>\n",
        "This code"
      ],
      "metadata": {
        "id": "GpcrBUUQfAaU"
      }
    },
    {
      "cell_type": "code",
      "source": [
        "apples = 6\n",
        "apples_given_away = 3\n",
        "print(apples - apples_given_away)\n"
      ],
      "metadata": {
        "colab": {
          "base_uri": "https://localhost:8080/"
        },
        "id": "aEPvIUcydzk-",
        "outputId": "96e2b317-bcc5-4b24-a6e1-e06ffad1f0f3"
      },
      "execution_count": 5,
      "outputs": [
        {
          "output_type": "stream",
          "name": "stdout",
          "text": [
            "3\n"
          ]
        }
      ]
    },
    {
      "cell_type": "markdown",
      "source": [
        "**SIMPLE SUBTRACTION**\n",
        "\n",
        "## The code below is reusable for the same simple subtraction by changing just the value of the variable. <br>\n",
        "## For example: x = 12 and all you have to do is run the code and your answer will be 9, no other changes need to be made. <br><br>\n",
        "### ✨ BE AWARE OF THE VALUE STORED IN YOUR VARIABLE!!! ✨<br>Just like 6 - 3 = 3...<br> if you place your variables in the ***wrong*** order <br>your answer will not be correct.<br>3 - 6 = -3"
      ],
      "metadata": {
        "id": "3dKdKKtEA5Gf"
      }
    },
    {
      "cell_type": "code",
      "source": [
        "x = 6\n",
        "y = 3\n",
        "print(x-y)"
      ],
      "metadata": {
        "id": "4ITIvvlsD9cX"
      },
      "execution_count": null,
      "outputs": []
    },
    {
      "cell_type": "code",
      "source": [
        "x = 6\n",
        "y = 3\n",
        "z = (x-y)\n",
        "print(z)"
      ],
      "metadata": {
        "colab": {
          "base_uri": "https://localhost:8080/"
        },
        "id": "d6_IW3kkApM-",
        "outputId": "e15c9990-c8f8-47e9-88a1-b79669d45b9b"
      },
      "execution_count": 1,
      "outputs": [
        {
          "output_type": "stream",
          "name": "stdout",
          "text": [
            "3\n"
          ]
        }
      ]
    },
    {
      "cell_type": "code",
      "source": [
        "print(6-3)"
      ],
      "metadata": {
        "colab": {
          "base_uri": "https://localhost:8080/"
        },
        "id": "NQIRjT_OeIiK",
        "outputId": "2ff7453f-8b49-4cf0-e11a-e27c7b77ba6d"
      },
      "execution_count": 3,
      "outputs": [
        {
          "output_type": "stream",
          "name": "stdout",
          "text": [
            "3\n"
          ]
        }
      ]
    },
    {
      "cell_type": "code",
      "source": [
        "print(x-y)"
      ],
      "metadata": {
        "colab": {
          "base_uri": "https://localhost:8080/"
        },
        "id": "_x_E4RISeIZl",
        "outputId": "3fc31b45-4d53-4727-b65d-fb16b2ac5403"
      },
      "execution_count": 4,
      "outputs": [
        {
          "output_type": "stream",
          "name": "stdout",
          "text": [
            "3\n"
          ]
        }
      ]
    },
    {
      "cell_type": "markdown",
      "source": [
        "# **SIMPLE ADDITION**"
      ],
      "metadata": {
        "id": "FL9gpdiCFEil"
      }
    },
    {
      "cell_type": "code",
      "source": [
        "oranges = 12\n",
        "bananas = 6\n",
        "print(bananas + oranges)"
      ],
      "metadata": {
        "colab": {
          "base_uri": "https://localhost:8080/"
        },
        "id": "Y0T8Vd8veINw",
        "outputId": "3e12db97-27fa-4179-d6e8-f1b1346cbda4"
      },
      "execution_count": 6,
      "outputs": [
        {
          "output_type": "stream",
          "name": "stdout",
          "text": [
            "18\n"
          ]
        }
      ]
    },
    {
      "cell_type": "markdown",
      "source": [
        "You can also build upon previously coded variables. All you need to do is change the value of your variable to update your answer.\n",
        "**CHANGE ORANGES VALUE TO: 18** and then rerun all of your code starting with the first line of code that variables presents.<br>\n",
        "**What is the new answer?**<br> Write the code and your answer in your notes.\n"
      ],
      "metadata": {
        "id": "LzBYDQRZG8uQ"
      }
    },
    {
      "cell_type": "code",
      "source": [
        "oranges = 12\n",
        "bananas = 6\n",
        "all_fruit = (oranges + bananas)\n",
        "print(all_fruit)"
      ],
      "metadata": {
        "colab": {
          "base_uri": "https://localhost:8080/"
        },
        "id": "l9XXe1X2FTZ5",
        "outputId": "f5b3b4c9-24df-4a99-c96e-822bb87fdd8b"
      },
      "execution_count": 7,
      "outputs": [
        {
          "output_type": "stream",
          "name": "stdout",
          "text": [
            "18\n"
          ]
        }
      ]
    },
    {
      "cell_type": "code",
      "source": [
        "fruit_salad = (all_fruit + 12)\n",
        "print(fruit_salad)"
      ],
      "metadata": {
        "colab": {
          "base_uri": "https://localhost:8080/"
        },
        "id": "5mLtkzjoFTUP",
        "outputId": "a5b87baa-45fe-4c9f-e18c-dc19a9ad290e"
      },
      "execution_count": 9,
      "outputs": [
        {
          "output_type": "stream",
          "name": "stdout",
          "text": [
            "30\n"
          ]
        }
      ]
    },
    {
      "cell_type": "code",
      "source": [
        "kiwi = 36\n",
        "fruit_salad_2 = (fruit_salad + kiwi)"
      ],
      "metadata": {
        "id": "FMNgYABfFTPN"
      },
      "execution_count": 10,
      "outputs": []
    },
    {
      "cell_type": "code",
      "source": [
        "print(fruit_salad_2)"
      ],
      "metadata": {
        "colab": {
          "base_uri": "https://localhost:8080/"
        },
        "id": "Be-I1nCjFTKp",
        "outputId": "9bd7cc90-e75c-4777-b0b3-675867ead7fa"
      },
      "execution_count": 11,
      "outputs": [
        {
          "output_type": "stream",
          "name": "stdout",
          "text": [
            "66\n"
          ]
        }
      ]
    },
    {
      "cell_type": "code",
      "source": [],
      "metadata": {
        "id": "cKRCfF9oFTFV"
      },
      "execution_count": null,
      "outputs": []
    },
    {
      "cell_type": "code",
      "source": [],
      "metadata": {
        "id": "9HOmIJxmFS3b"
      },
      "execution_count": null,
      "outputs": []
    },
    {
      "cell_type": "code",
      "source": [
        "list = [\"headache\", \"chest pain\", \"fever\", \"nausea\", \"vomiting\", \"back pain\"]\n",
        "symptoms = input(\"Enter your main symptom: \")\n",
        "y = \"yes\"\n",
        "n = \"n\"\n",
        "\n",
        "for symptom in list:\n",
        "    if symptoms == list[0]:\n",
        "        while True:\n",
        "            ha1 = input(f'Is your {list[0]} causing nausea, tiredness, sensitivity\\n to light, blurred vision, other new symptoms or \\n not controlled by OTC {list[0]} medications? ')\n",
        "            if ha1 == \"yes\" or \"y\":\n",
        "                print(\"\\n**You should seek Immediate Medical Attention. If you do not have someone\\n that can drive you, please call 911. \\n While not all new onset, severe headaches are a medical emergency\\n it is best to have a medical professional assess you**\")\n",
        "                continue\n",
        "            #if ha1 == \"y\":\n",
        "               # print(\"\\n**You should seek Immediate Medical Attention. If you do not have someone\\n that can drive you, please call 911. \\n While not all new onset, severe headaches are a medical emergency\\n it is best to have a medical professional assess you**\")\n",
        "                break\n",
        "            if ha1 == \"no\" or \"n\":\n",
        "                print(\"Take motrin or tylenol, as directed.\\n Drink plenty of fluids\\n and rest!\")\n",
        "                #print(f) #input(f'Is your {list[2]} above 102.5? '))\n",
        "            break\n",
        "    #break\n",
        "        #print(input(f'Are {list[0]}\\'s normal for you? '))\n",
        "\n",
        "    if symptoms == list[1]:\n",
        "        print(input(f'Are {list[1]} normal for you? '))\n",
        "\n",
        "    if symptoms == list[2]:\n",
        "        while True:\n",
        "            f = input(f'Is your {list[2]} above 102.5? ')\n",
        "            if f == \"yes\":\n",
        "                print(\"Seek Medical Attention\")\n",
        "                continue\n",
        "            if f == \"y\":\n",
        "                print(\"Seek Medical Attention\")\n",
        "\n",
        "            elif f == \"no\":\n",
        "                print(\"Take motrin or tylenol, as directed.\\n Drink plenty of fluids\\n and rest!\")\n",
        "                #print(f) #input(f'Is your {list[2]} above 102.5? '))\n",
        "            break\n",
        "        break\n",
        "\n",
        "\n",
        "\n",
        "    if symptoms == list[3]:\n",
        "        print(input(f'How long have you been experiencing {list[3]}? '))\n",
        "\n",
        "    if symptoms == list[4]:\n",
        "        print(input(f'How long have you been experiencing {list[4]}? '))\n",
        "\n",
        "    if symptoms == list[5]:\n",
        "        print(input(f'Is {list[5]} normal for you? '))"
      ],
      "metadata": {
        "colab": {
          "base_uri": "https://localhost:8080/",
          "height": 547
        },
        "id": "9iBeN9i2LufB",
        "outputId": "02954d1a-64bf-416e-f118-4bd26b04970c"
      },
      "execution_count": 20,
      "outputs": [
        {
          "output_type": "stream",
          "name": "stdout",
          "text": [
            "Enter your main symptom: headache\n",
            "Is your headache causing nausea, tiredness, sensitivity\n",
            " to light, blurred vision, other new symptoms or \n",
            " not controlled by OTC headache medications? yes\n",
            "\n",
            "**You should seek Immediate Medical Attention. If you do not have someone\n",
            " that can drive you, please call 911. \n",
            " While not all new onset, severe headaches are a medical emergency\n",
            " it is best to have a medical professional assess you**\n"
          ]
        },
        {
          "output_type": "error",
          "ename": "KeyboardInterrupt",
          "evalue": "Interrupted by user",
          "traceback": [
            "\u001b[0;31m---------------------------------------------------------------------------\u001b[0m",
            "\u001b[0;31mKeyboardInterrupt\u001b[0m                         Traceback (most recent call last)",
            "\u001b[0;32m<ipython-input-20-cfe3a28acbcc>\u001b[0m in \u001b[0;36m<cell line: 6>\u001b[0;34m()\u001b[0m\n\u001b[1;32m      7\u001b[0m     \u001b[0;32mif\u001b[0m \u001b[0msymptoms\u001b[0m \u001b[0;34m==\u001b[0m \u001b[0mlist\u001b[0m\u001b[0;34m[\u001b[0m\u001b[0;36m0\u001b[0m\u001b[0;34m]\u001b[0m\u001b[0;34m:\u001b[0m\u001b[0;34m\u001b[0m\u001b[0;34m\u001b[0m\u001b[0m\n\u001b[1;32m      8\u001b[0m         \u001b[0;32mwhile\u001b[0m \u001b[0;32mTrue\u001b[0m\u001b[0;34m:\u001b[0m\u001b[0;34m\u001b[0m\u001b[0;34m\u001b[0m\u001b[0m\n\u001b[0;32m----> 9\u001b[0;31m             \u001b[0mha1\u001b[0m \u001b[0;34m=\u001b[0m \u001b[0minput\u001b[0m\u001b[0;34m(\u001b[0m\u001b[0;34mf'Is your {list[0]} causing nausea, tiredness, sensitivity\\n to light, blurred vision, other new symptoms or \\n not controlled by OTC {list[0]} medications? '\u001b[0m\u001b[0;34m)\u001b[0m\u001b[0;34m\u001b[0m\u001b[0;34m\u001b[0m\u001b[0m\n\u001b[0m\u001b[1;32m     10\u001b[0m             \u001b[0;32mif\u001b[0m \u001b[0mha1\u001b[0m \u001b[0;34m==\u001b[0m \u001b[0;34m\"yes\"\u001b[0m \u001b[0;32mor\u001b[0m \u001b[0;34m\"y\"\u001b[0m\u001b[0;34m:\u001b[0m\u001b[0;34m\u001b[0m\u001b[0;34m\u001b[0m\u001b[0m\n\u001b[1;32m     11\u001b[0m                 \u001b[0mprint\u001b[0m\u001b[0;34m(\u001b[0m\u001b[0;34m\"\\n**You should seek Immediate Medical Attention. If you do not have someone\\n that can drive you, please call 911. \\n While not all new onset, severe headaches are a medical emergency\\n it is best to have a medical professional assess you**\"\u001b[0m\u001b[0;34m)\u001b[0m\u001b[0;34m\u001b[0m\u001b[0;34m\u001b[0m\u001b[0m\n",
            "\u001b[0;32m/usr/local/lib/python3.10/dist-packages/ipykernel/kernelbase.py\u001b[0m in \u001b[0;36mraw_input\u001b[0;34m(self, prompt)\u001b[0m\n\u001b[1;32m    849\u001b[0m                 \u001b[0;34m\"raw_input was called, but this frontend does not support input requests.\"\u001b[0m\u001b[0;34m\u001b[0m\u001b[0;34m\u001b[0m\u001b[0m\n\u001b[1;32m    850\u001b[0m             )\n\u001b[0;32m--> 851\u001b[0;31m         return self._input_request(str(prompt),\n\u001b[0m\u001b[1;32m    852\u001b[0m             \u001b[0mself\u001b[0m\u001b[0;34m.\u001b[0m\u001b[0m_parent_ident\u001b[0m\u001b[0;34m,\u001b[0m\u001b[0;34m\u001b[0m\u001b[0;34m\u001b[0m\u001b[0m\n\u001b[1;32m    853\u001b[0m             \u001b[0mself\u001b[0m\u001b[0;34m.\u001b[0m\u001b[0m_parent_header\u001b[0m\u001b[0;34m,\u001b[0m\u001b[0;34m\u001b[0m\u001b[0;34m\u001b[0m\u001b[0m\n",
            "\u001b[0;32m/usr/local/lib/python3.10/dist-packages/ipykernel/kernelbase.py\u001b[0m in \u001b[0;36m_input_request\u001b[0;34m(self, prompt, ident, parent, password)\u001b[0m\n\u001b[1;32m    893\u001b[0m             \u001b[0;32mexcept\u001b[0m \u001b[0mKeyboardInterrupt\u001b[0m\u001b[0;34m:\u001b[0m\u001b[0;34m\u001b[0m\u001b[0;34m\u001b[0m\u001b[0m\n\u001b[1;32m    894\u001b[0m                 \u001b[0;31m# re-raise KeyboardInterrupt, to truncate traceback\u001b[0m\u001b[0;34m\u001b[0m\u001b[0;34m\u001b[0m\u001b[0m\n\u001b[0;32m--> 895\u001b[0;31m                 \u001b[0;32mraise\u001b[0m \u001b[0mKeyboardInterrupt\u001b[0m\u001b[0;34m(\u001b[0m\u001b[0;34m\"Interrupted by user\"\u001b[0m\u001b[0;34m)\u001b[0m \u001b[0;32mfrom\u001b[0m \u001b[0;32mNone\u001b[0m\u001b[0;34m\u001b[0m\u001b[0;34m\u001b[0m\u001b[0m\n\u001b[0m\u001b[1;32m    896\u001b[0m             \u001b[0;32mexcept\u001b[0m \u001b[0mException\u001b[0m \u001b[0;32mas\u001b[0m \u001b[0me\u001b[0m\u001b[0;34m:\u001b[0m\u001b[0;34m\u001b[0m\u001b[0;34m\u001b[0m\u001b[0m\n\u001b[1;32m    897\u001b[0m                 \u001b[0mself\u001b[0m\u001b[0;34m.\u001b[0m\u001b[0mlog\u001b[0m\u001b[0;34m.\u001b[0m\u001b[0mwarning\u001b[0m\u001b[0;34m(\u001b[0m\u001b[0;34m\"Invalid Message:\"\u001b[0m\u001b[0;34m,\u001b[0m \u001b[0mexc_info\u001b[0m\u001b[0;34m=\u001b[0m\u001b[0;32mTrue\u001b[0m\u001b[0;34m)\u001b[0m\u001b[0;34m\u001b[0m\u001b[0;34m\u001b[0m\u001b[0m\n",
            "\u001b[0;31mKeyboardInterrupt\u001b[0m: Interrupted by user"
          ]
        }
      ]
    }
  ]
}